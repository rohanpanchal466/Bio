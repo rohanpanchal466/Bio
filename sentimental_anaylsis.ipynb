{
  "nbformat": 4,
  "nbformat_minor": 0,
  "metadata": {
    "colab": {
      "name": "sentimental-anaylsis.ipynb",
      "provenance": [],
      "collapsed_sections": [],
      "authorship_tag": "ABX9TyOClscweRnrdytSiDagM752",
      "include_colab_link": true
    },
    "kernelspec": {
      "name": "python3",
      "display_name": "Python 3"
    }
  },
  "cells": [
    {
      "cell_type": "markdown",
      "metadata": {
        "id": "view-in-github",
        "colab_type": "text"
      },
      "source": [
        "<a href=\"https://colab.research.google.com/github/rohanpanchal466/Bio/blob/master/sentimental_anaylsis.ipynb\" target=\"_parent\"><img src=\"https://colab.research.google.com/assets/colab-badge.svg\" alt=\"Open In Colab\"/></a>"
      ]
    },
    {
      "cell_type": "code",
      "metadata": {
        "id": "N4Xf722LZRk1",
        "colab_type": "code",
        "outputId": "19c924d9-56a8-4d87-8452-dc9ab3be1811",
        "colab": {
          "base_uri": "https://localhost:8080/",
          "height": 840
        }
      },
      "source": [
        "pip install newspaper3k"
      ],
      "execution_count": 0,
      "outputs": [
        {
          "output_type": "stream",
          "text": [
            "Collecting newspaper3k\n",
            "\u001b[?25l  Downloading https://files.pythonhosted.org/packages/d7/b9/51afecb35bb61b188a4b44868001de348a0e8134b4dfa00ffc191567c4b9/newspaper3k-0.2.8-py3-none-any.whl (211kB)\n",
            "\u001b[K     |████████████████████████████████| 215kB 1.4MB/s \n",
            "\u001b[?25hCollecting feedparser>=5.2.1\n",
            "\u001b[?25l  Downloading https://files.pythonhosted.org/packages/91/d8/7d37fec71ff7c9dbcdd80d2b48bcdd86d6af502156fc93846fb0102cb2c4/feedparser-5.2.1.tar.bz2 (192kB)\n",
            "\u001b[K     |████████████████████████████████| 194kB 4.0MB/s \n",
            "\u001b[?25hCollecting jieba3k>=0.35.1\n",
            "\u001b[?25l  Downloading https://files.pythonhosted.org/packages/a9/cb/2c8332bcdc14d33b0bedd18ae0a4981a069c3513e445120da3c3f23a8aaa/jieba3k-0.35.1.zip (7.4MB)\n",
            "\u001b[K     |████████████████████████████████| 7.4MB 5.5MB/s \n",
            "\u001b[?25hRequirement already satisfied: nltk>=3.2.1 in /usr/local/lib/python3.6/dist-packages (from newspaper3k) (3.2.5)\n",
            "Requirement already satisfied: beautifulsoup4>=4.4.1 in /usr/local/lib/python3.6/dist-packages (from newspaper3k) (4.6.3)\n",
            "Requirement already satisfied: Pillow>=3.3.0 in /usr/local/lib/python3.6/dist-packages (from newspaper3k) (7.0.0)\n",
            "Requirement already satisfied: requests>=2.10.0 in /usr/local/lib/python3.6/dist-packages (from newspaper3k) (2.21.0)\n",
            "Requirement already satisfied: lxml>=3.6.0 in /usr/local/lib/python3.6/dist-packages (from newspaper3k) (4.2.6)\n",
            "Collecting feedfinder2>=0.0.4\n",
            "  Downloading https://files.pythonhosted.org/packages/35/82/1251fefec3bb4b03fd966c7e7f7a41c9fc2bb00d823a34c13f847fd61406/feedfinder2-0.0.4.tar.gz\n",
            "Collecting tinysegmenter==0.3\n",
            "  Downloading https://files.pythonhosted.org/packages/17/82/86982e4b6d16e4febc79c2a1d68ee3b707e8a020c5d2bc4af8052d0f136a/tinysegmenter-0.3.tar.gz\n",
            "Collecting cssselect>=0.9.2\n",
            "  Downloading https://files.pythonhosted.org/packages/3b/d4/3b5c17f00cce85b9a1e6f91096e1cc8e8ede2e1be8e96b87ce1ed09e92c5/cssselect-1.1.0-py2.py3-none-any.whl\n",
            "Collecting tldextract>=2.0.1\n",
            "\u001b[?25l  Downloading https://files.pythonhosted.org/packages/fd/0e/9ab599d6e78f0340bb1d1e28ddeacb38c8bb7f91a1b0eae9a24e9603782f/tldextract-2.2.2-py2.py3-none-any.whl (48kB)\n",
            "\u001b[K     |████████████████████████████████| 51kB 5.7MB/s \n",
            "\u001b[?25hRequirement already satisfied: PyYAML>=3.11 in /usr/local/lib/python3.6/dist-packages (from newspaper3k) (3.13)\n",
            "Requirement already satisfied: python-dateutil>=2.5.3 in /usr/local/lib/python3.6/dist-packages (from newspaper3k) (2.8.1)\n",
            "Requirement already satisfied: six in /usr/local/lib/python3.6/dist-packages (from nltk>=3.2.1->newspaper3k) (1.12.0)\n",
            "Requirement already satisfied: chardet<3.1.0,>=3.0.2 in /usr/local/lib/python3.6/dist-packages (from requests>=2.10.0->newspaper3k) (3.0.4)\n",
            "Requirement already satisfied: certifi>=2017.4.17 in /usr/local/lib/python3.6/dist-packages (from requests>=2.10.0->newspaper3k) (2019.11.28)\n",
            "Requirement already satisfied: urllib3<1.25,>=1.21.1 in /usr/local/lib/python3.6/dist-packages (from requests>=2.10.0->newspaper3k) (1.24.3)\n",
            "Requirement already satisfied: idna<2.9,>=2.5 in /usr/local/lib/python3.6/dist-packages (from requests>=2.10.0->newspaper3k) (2.8)\n",
            "Collecting requests-file>=1.4\n",
            "  Downloading https://files.pythonhosted.org/packages/23/9c/6e63c23c39e53d3df41c77a3d05a49a42c4e1383a6d2a5e3233161b89dbf/requests_file-1.4.3-py2.py3-none-any.whl\n",
            "Requirement already satisfied: setuptools in /usr/local/lib/python3.6/dist-packages (from tldextract>=2.0.1->newspaper3k) (46.1.3)\n",
            "Building wheels for collected packages: feedparser, jieba3k, feedfinder2, tinysegmenter\n",
            "  Building wheel for feedparser (setup.py) ... \u001b[?25l\u001b[?25hdone\n",
            "  Created wheel for feedparser: filename=feedparser-5.2.1-cp36-none-any.whl size=44940 sha256=3121c3fa7b128a353dc0dd382d3ce4812cac5ebda940c956311d17b7baeeb47b\n",
            "  Stored in directory: /root/.cache/pip/wheels/8c/69/b7/f52763c41c5471df57703a0ef718a32a5e81ee35dcf6d4f97f\n",
            "  Building wheel for jieba3k (setup.py) ... \u001b[?25l\u001b[?25hdone\n",
            "  Created wheel for jieba3k: filename=jieba3k-0.35.1-cp36-none-any.whl size=7398406 sha256=f3189edc8a95adb9cbd32a00c948145bf2591d7f2e053f6fd4e75ee7089c6930\n",
            "  Stored in directory: /root/.cache/pip/wheels/83/15/9c/a3f1f67e7f7181170ad37d32e503c35da20627c013f438ed34\n",
            "  Building wheel for feedfinder2 (setup.py) ... \u001b[?25l\u001b[?25hdone\n",
            "  Created wheel for feedfinder2: filename=feedfinder2-0.0.4-cp36-none-any.whl size=3357 sha256=14b40f781b2265912547d619b62054b1195f6d32dd0f087bac4540966802b6be\n",
            "  Stored in directory: /root/.cache/pip/wheels/de/03/ca/778e3a7a627e3d98836cc890e7cb40c7575424cfd3340f40ed\n",
            "  Building wheel for tinysegmenter (setup.py) ... \u001b[?25l\u001b[?25hdone\n",
            "  Created wheel for tinysegmenter: filename=tinysegmenter-0.3-cp36-none-any.whl size=13539 sha256=f6da17a334a3a28629f7e798bb0509569929617c22a36a195eec1e3921adadd3\n",
            "  Stored in directory: /root/.cache/pip/wheels/81/2b/43/a02ede72324dd40cdd7ca53aad718c7710628e91b8b0dc0f02\n",
            "Successfully built feedparser jieba3k feedfinder2 tinysegmenter\n",
            "Installing collected packages: feedparser, jieba3k, feedfinder2, tinysegmenter, cssselect, requests-file, tldextract, newspaper3k\n",
            "Successfully installed cssselect-1.1.0 feedfinder2-0.0.4 feedparser-5.2.1 jieba3k-0.35.1 newspaper3k-0.2.8 requests-file-1.4.3 tinysegmenter-0.3 tldextract-2.2.2\n"
          ],
          "name": "stdout"
        }
      ]
    },
    {
      "cell_type": "code",
      "metadata": {
        "id": "RSoqNbBBZifq",
        "colab_type": "code",
        "colab": {}
      },
      "source": [
        "#import libraries\n",
        "from textblob import TextBlob\n",
        "import nltk\n",
        "from newspaper import Article\n"
      ],
      "execution_count": 0,
      "outputs": []
    },
    {
      "cell_type": "code",
      "metadata": {
        "id": "y46xrY63cN_y",
        "colab_type": "code",
        "outputId": "0fee9ef6-a90b-4ded-cb40-c60749040115",
        "colab": {
          "base_uri": "https://localhost:8080/",
          "height": 50
        }
      },
      "source": [
        "#using NLP\n",
        "article.download()\n",
        "article.parse()\n",
        "nltk.download('punkt')\n",
        "article.nlp()"
      ],
      "execution_count": 0,
      "outputs": [
        {
          "output_type": "stream",
          "text": [
            "[nltk_data] Downloading package punkt to /root/nltk_data...\n",
            "[nltk_data]   Package punkt is already up-to-date!\n"
          ],
          "name": "stdout"
        }
      ]
    },
    {
      "cell_type": "code",
      "metadata": {
        "id": "JvDnctTImamq",
        "colab_type": "code",
        "outputId": "77085842-af38-42b4-aa78-988cbb9198ca",
        "colab": {
          "base_uri": "https://localhost:8080/",
          "height": 591
        }
      },
      "source": [
        "\n",
        "\n",
        "#A new article from APPLE.inc \n",
        "url = \"https://www.barrons.com/articles/apple-stock-appletv-iphone-11-analyst-expects-more-gains-51570634831\"\n",
        "\n",
        "#For different language newspaper refer above table \n",
        "AAPL_article = Article(url, language=\"en\") # en for English \n",
        "\n",
        "#To download the article \n",
        "AAPL_article.download() \n",
        "\n",
        "#To parse the article \n",
        "AAPL_article.parse() \n",
        "\n",
        "#To perform natural language processing ie..nlp \n",
        "AAPL_article.nlp() \n",
        "\n",
        "#To extract title \n",
        "print(\"Article's Title:\") \n",
        "print(AAPL_article.title) \n",
        "print(\"n\") \n",
        "\n",
        "#To extract text \n",
        "print(\"Article's Text:\") \n",
        "print(AAPL_article.text) \n",
        "print(\"n\") \n",
        "\n",
        "#To extract summary \n",
        "print(\"Article's Summary:\") \n",
        "print(AAPL_article.summary) \n",
        "print(\"n\") \n",
        "\n",
        "#To extract keywords \n",
        "print(\"Article's Keywords:\") \n",
        "print(AAPL_article.keywords) \n"
      ],
      "execution_count": 0,
      "outputs": [
        {
          "output_type": "stream",
          "text": [
            "Article's Title:\n",
            "Apple Stock Is Beating the Market. Analyst Expects More Gains.\n",
            "n\n",
            "Article's Text:\n",
            "Text size\n",
            "\n",
            "Apple stock has had a great year, and Canaccord sees more potential gains, thanks to the success of the iPhone 11 and growth in the services business. The launch of Apple TV+ in November could give the stock an extra push.\n",
            "\n",
            "The back story. Apple stock (ticker: AAPL) has rallied more than 43% in 2019, more than double the gains seen by the S&P 500, and ahead of the 29% rise of the Technology Select Sector SDPR ETF (XLK). It is the best-performing FAANG stock this year, beating Facebook (FB), Amazon.com (AMZN), Netflix (NFLX), and Alphabet (GOOGL), Google’s parent.\n",
            "\n",
            "What’s new. On Wednesday, Canaccord analyst T. Michael Walkley reiterated a Buy rating on Apple and raised his price target by $20, to $260. Apple was up 0.8% to $226.16 in morning trading.\n",
            "\n",
            "His recent research shows that the iPhone has held on to its leading market share at all four major wireless carriers in the U.S., making gains last month thanks to the iPhone 11. The success of the new model leads him to believe that earnings for the quarter could come in at the high end of the range Apple has told investors to expect.\n",
            "\n",
            "Looking ahead. Stronger demand for the new phone prompted Walkley to raise his estimates for 2019 and 2020 earnings per share. “Despite near-term headwinds from some consumer willingness to wait for 5G iPhones in 2020 and ongoing trade tensions with China, we are encouraged by the stronger than anticipated initial demand for the iPhone 11 lineup and believe Apple will maintain its market share leadership of premium-tier smartphones,” he wrote in a note to clients.\n",
            "\n",
            "Walkley also said that Apple could use at least some of the $7 billion it recently raised by issuing debt to increase stock buybacks or dividend payments.\n",
            "\n",
            "Looking into 2021, Apple should benefit from the 5G iPhone cycle that will begin next year, the analyst said. He expects the services business, which has posted strong numbers following the launch of the Apple credit card, to continue to be a robust revenue stream for the company.\n",
            "\n",
            "The launch of Apple TV+ next month could give the services business another push, he said. “We believe the pricing of Apple TV+, which is at the low end among competing services, could prove compelling depending on the content quality, and with a 1-year free subscription included with new Apple iPhone, iPad, Mac or Apple TV purchases, there is potential for a large and stable subscriber base out of the gate through 2020 and beyond.”\n",
            "\n",
            "Write to Teresa Rivas at teresa.rivas@barrons.com\n",
            "n\n",
            "Article's Summary:\n",
            "Text sizeApple stock has had a great year, and Canaccord sees more potential gains, thanks to the success of the iPhone 11 and growth in the services business.\n",
            "The launch of Apple TV+ in November could give the stock an extra push.\n",
            "Apple stock (ticker: AAPL) has rallied more than 43% in 2019, more than double the gains seen by the S&P 500, and ahead of the 29% rise of the Technology Select Sector SDPR ETF (XLK).\n",
            "It is the best-performing FAANG stock this year, beating Facebook (FB), Amazon.com (AMZN), Netflix (NFLX), and Alphabet (GOOGL), Google’s parent.\n",
            "The launch of Apple TV+ next month could give the services business another push, he said.\n",
            "n\n",
            "Article's Keywords:\n",
            "['stock', 'apple', 'tv', 'beating', 'analyst', 'expects', 'services', 'share', 'market', 'iphone', 'believe', 'business', 'launch', 'gains']\n"
          ],
          "name": "stdout"
        }
      ]
    },
    {
      "cell_type": "code",
      "metadata": {
        "id": "U9ze-90qn71O",
        "colab_type": "code",
        "outputId": "bcd5e1f5-6bec-449a-a4f7-fd876d33db71",
        "colab": {
          "base_uri": "https://localhost:8080/",
          "height": 34
        }
      },
      "source": [
        "#creating textblob object\n",
        "obj=TextBlob(text)\n",
        "\n",
        "#this will return a value between -1 to 1\n",
        "sentiment=obj.sentiment.polarity\n",
        "print(sentiment)"
      ],
      "execution_count": 0,
      "outputs": [
        {
          "output_type": "stream",
          "text": [
            "0.0\n"
          ],
          "name": "stdout"
        }
      ]
    },
    {
      "cell_type": "code",
      "metadata": {
        "id": "x60t28HSpH35",
        "colab_type": "code",
        "outputId": "1a46d7f3-818b-4baa-c463-2556caf69724",
        "colab": {
          "base_uri": "https://localhost:8080/",
          "height": 34
        }
      },
      "source": [
        "if sentiment==0:\n",
        "  print('Investing can be done')\n",
        "elif sentiment > 0:\n",
        "  print('Investing will give profit')\n",
        "else:\n",
        "  print('There will be a loss in investing')"
      ],
      "execution_count": 0,
      "outputs": [
        {
          "output_type": "stream",
          "text": [
            "Investing can be done\n"
          ],
          "name": "stdout"
        }
      ]
    }
  ]
}