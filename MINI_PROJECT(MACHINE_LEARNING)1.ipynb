{
  "nbformat": 4,
  "nbformat_minor": 0,
  "metadata": {
    "colab": {
      "name": "MINI-PROJECT(MACHINE LEARNING)1.ipynb",
      "provenance": [],
      "collapsed_sections": [],
      "toc_visible": true,
      "include_colab_link": true
    },
    "kernelspec": {
      "display_name": "Python 3",
      "name": "python3"
    }
  },
  "cells": [
    {
      "cell_type": "markdown",
      "metadata": {
        "id": "view-in-github",
        "colab_type": "text"
      },
      "source": [
        "<a href=\"https://colab.research.google.com/github/rohanpanchal466/Bio/blob/master/MINI_PROJECT(MACHINE_LEARNING)1.ipynb\" target=\"_parent\"><img src=\"https://colab.research.google.com/assets/colab-badge.svg\" alt=\"Open In Colab\"/></a>"
      ]
    },
    {
      "cell_type": "code",
      "metadata": {
        "id": "k6CWo_d5EvDv",
        "colab_type": "code",
        "colab": {}
      },
      "source": [
        "#Import the libraries\n",
        "import math\n",
        "import pandas_datareader as web\n",
        "import numpy as np\n",
        "import pandas as pd\n",
        "from sklearn.preprocessing import MinMaxScaler\n",
        "from tensorflow.python.keras.layers import Dense,LSTM\n",
        "from tensorflow.python.keras import Sequential\n",
        "import matplotlib.pyplot as plt\n",
        "plt.style.use('fivethirtyeight')"
      ],
      "execution_count": 0,
      "outputs": []
    },
    {
      "cell_type": "code",
      "metadata": {
        "colab_type": "code",
        "outputId": "f152cfff-f6ef-4d98-d49f-0866585f70e9",
        "id": "P-3nEBlrMTfn",
        "colab": {
          "base_uri": "https://localhost:8080/",
          "height": 431
        }
      },
      "source": [
        "#Get the stock quote\n",
        "df = web.DataReader('AAPL', data_source='yahoo', start='2012-01-01', end='2020-04-09')\n",
        "#Show teh data\n",
        "df"
      ],
      "execution_count": 118,
      "outputs": [
        {
          "output_type": "execute_result",
          "data": {
            "text/html": [
              "<div>\n",
              "<style scoped>\n",
              "    .dataframe tbody tr th:only-of-type {\n",
              "        vertical-align: middle;\n",
              "    }\n",
              "\n",
              "    .dataframe tbody tr th {\n",
              "        vertical-align: top;\n",
              "    }\n",
              "\n",
              "    .dataframe thead th {\n",
              "        text-align: right;\n",
              "    }\n",
              "</style>\n",
              "<table border=\"1\" class=\"dataframe\">\n",
              "  <thead>\n",
              "    <tr style=\"text-align: right;\">\n",
              "      <th></th>\n",
              "      <th>High</th>\n",
              "      <th>Low</th>\n",
              "      <th>Open</th>\n",
              "      <th>Close</th>\n",
              "      <th>Volume</th>\n",
              "      <th>Adj Close</th>\n",
              "    </tr>\n",
              "    <tr>\n",
              "      <th>Date</th>\n",
              "      <th></th>\n",
              "      <th></th>\n",
              "      <th></th>\n",
              "      <th></th>\n",
              "      <th></th>\n",
              "      <th></th>\n",
              "    </tr>\n",
              "  </thead>\n",
              "  <tbody>\n",
              "    <tr>\n",
              "      <th>2012-01-03</th>\n",
              "      <td>58.928570</td>\n",
              "      <td>58.428570</td>\n",
              "      <td>58.485714</td>\n",
              "      <td>58.747143</td>\n",
              "      <td>75555200.0</td>\n",
              "      <td>50.994907</td>\n",
              "    </tr>\n",
              "    <tr>\n",
              "      <th>2012-01-04</th>\n",
              "      <td>59.240002</td>\n",
              "      <td>58.468571</td>\n",
              "      <td>58.571430</td>\n",
              "      <td>59.062859</td>\n",
              "      <td>65005500.0</td>\n",
              "      <td>51.268970</td>\n",
              "    </tr>\n",
              "    <tr>\n",
              "      <th>2012-01-05</th>\n",
              "      <td>59.792858</td>\n",
              "      <td>58.952858</td>\n",
              "      <td>59.278572</td>\n",
              "      <td>59.718571</td>\n",
              "      <td>67817400.0</td>\n",
              "      <td>51.838169</td>\n",
              "    </tr>\n",
              "    <tr>\n",
              "      <th>2012-01-06</th>\n",
              "      <td>60.392857</td>\n",
              "      <td>59.888573</td>\n",
              "      <td>59.967144</td>\n",
              "      <td>60.342857</td>\n",
              "      <td>79573200.0</td>\n",
              "      <td>52.380054</td>\n",
              "    </tr>\n",
              "    <tr>\n",
              "      <th>2012-01-09</th>\n",
              "      <td>61.107143</td>\n",
              "      <td>60.192856</td>\n",
              "      <td>60.785713</td>\n",
              "      <td>60.247143</td>\n",
              "      <td>98506100.0</td>\n",
              "      <td>52.296970</td>\n",
              "    </tr>\n",
              "    <tr>\n",
              "      <th>...</th>\n",
              "      <td>...</td>\n",
              "      <td>...</td>\n",
              "      <td>...</td>\n",
              "      <td>...</td>\n",
              "      <td>...</td>\n",
              "      <td>...</td>\n",
              "    </tr>\n",
              "    <tr>\n",
              "      <th>2020-04-03</th>\n",
              "      <td>245.699997</td>\n",
              "      <td>238.970001</td>\n",
              "      <td>242.800003</td>\n",
              "      <td>241.410004</td>\n",
              "      <td>32470000.0</td>\n",
              "      <td>241.410004</td>\n",
              "    </tr>\n",
              "    <tr>\n",
              "      <th>2020-04-06</th>\n",
              "      <td>263.109985</td>\n",
              "      <td>249.380005</td>\n",
              "      <td>250.899994</td>\n",
              "      <td>262.470001</td>\n",
              "      <td>50455100.0</td>\n",
              "      <td>262.470001</td>\n",
              "    </tr>\n",
              "    <tr>\n",
              "      <th>2020-04-07</th>\n",
              "      <td>271.700012</td>\n",
              "      <td>259.000000</td>\n",
              "      <td>270.799988</td>\n",
              "      <td>259.429993</td>\n",
              "      <td>50721800.0</td>\n",
              "      <td>259.429993</td>\n",
              "    </tr>\n",
              "    <tr>\n",
              "      <th>2020-04-08</th>\n",
              "      <td>267.369995</td>\n",
              "      <td>261.230011</td>\n",
              "      <td>262.739990</td>\n",
              "      <td>266.070007</td>\n",
              "      <td>42134500.0</td>\n",
              "      <td>266.070007</td>\n",
              "    </tr>\n",
              "    <tr>\n",
              "      <th>2020-04-09</th>\n",
              "      <td>270.070007</td>\n",
              "      <td>264.700012</td>\n",
              "      <td>268.700012</td>\n",
              "      <td>267.989990</td>\n",
              "      <td>39451006.0</td>\n",
              "      <td>267.989990</td>\n",
              "    </tr>\n",
              "  </tbody>\n",
              "</table>\n",
              "<p>2081 rows × 6 columns</p>\n",
              "</div>"
            ],
            "text/plain": [
              "                  High         Low  ...      Volume   Adj Close\n",
              "Date                                ...                        \n",
              "2012-01-03   58.928570   58.428570  ...  75555200.0   50.994907\n",
              "2012-01-04   59.240002   58.468571  ...  65005500.0   51.268970\n",
              "2012-01-05   59.792858   58.952858  ...  67817400.0   51.838169\n",
              "2012-01-06   60.392857   59.888573  ...  79573200.0   52.380054\n",
              "2012-01-09   61.107143   60.192856  ...  98506100.0   52.296970\n",
              "...                ...         ...  ...         ...         ...\n",
              "2020-04-03  245.699997  238.970001  ...  32470000.0  241.410004\n",
              "2020-04-06  263.109985  249.380005  ...  50455100.0  262.470001\n",
              "2020-04-07  271.700012  259.000000  ...  50721800.0  259.429993\n",
              "2020-04-08  267.369995  261.230011  ...  42134500.0  266.070007\n",
              "2020-04-09  270.070007  264.700012  ...  39451006.0  267.989990\n",
              "\n",
              "[2081 rows x 6 columns]"
            ]
          },
          "metadata": {
            "tags": []
          },
          "execution_count": 118
        }
      ]
    },
    {
      "cell_type": "code",
      "metadata": {
        "id": "0UI6pi-jE4Lm",
        "colab_type": "code",
        "outputId": "2dd0c5a9-7f16-47a6-92c4-cda36ad2a0c3",
        "colab": {
          "base_uri": "https://localhost:8080/",
          "height": 558
        }
      },
      "source": [
        "#Visualize the closing price history\n",
        "plt.figure(figsize=(16,8))\n",
        "plt.title('Close Price History')\n",
        "plt.plot(df['Close'])\n",
        "plt.xlabel('Date', fontsize=18)\n",
        "plt.ylabel('Close Price USD ($)', fontsize=18)\n",
        "plt.show()"
      ],
      "execution_count": 119,
      "outputs": [
        {
          "output_type": "display_data",
          "data": {
            "image/png": "[encoded data removed]",
            "text/plain": [
              "<Figure size 1152x576 with 1 Axes>"
            ]
          },
          "metadata": {
            "tags": []
          }
        }
      ]
    },
    {
      "cell_type": "code",
      "metadata": {
        "id": "-zGfai1qE8j3",
        "colab_type": "code",
        "outputId": "34040585-69d7-4a34-9db7-c85be3e26f50",
        "colab": {
          "base_uri": "https://localhost:8080/",
          "height": 34
        }
      },
      "source": [
        "#Create a new dataframe with only the 'Close column\n",
        "data = df.filter(['Close'])\n",
        "#Convert the dataframe to a numpy array\n",
        "dataset = data.values\n",
        "#Get the number of rows to train the model on\n",
        "training_data_len = math.ceil( len(dataset) * .8 )\n",
        "\n",
        "training_data_len"
      ],
      "execution_count": 120,
      "outputs": [
        {
          "output_type": "execute_result",
          "data": {
            "text/plain": [
              "1665"
            ]
          },
          "metadata": {
            "tags": []
          },
          "execution_count": 120
        }
      ]
    },
    {
      "cell_type": "code",
      "metadata": {
        "id": "VVJZMW0yFBFX",
        "colab_type": "code",
        "outputId": "fe26a210-fe63-4f93-8bf1-805e175db074",
        "colab": {
          "base_uri": "https://localhost:8080/",
          "height": 134
        }
      },
      "source": [
        "#Scale the data\n",
        "scaler = MinMaxScaler(feature_range=(0,1))\n",
        "scaled_data = scaler.fit_transform(dataset)\n",
        "\n",
        "scaled_data"
      ],
      "execution_count": 121,
      "outputs": [
        {
          "output_type": "execute_result",
          "data": {
            "text/plain": [
              "array([[0.01089548],\n",
              "       [0.01205872],\n",
              "       [0.01447467],\n",
              "       ...,\n",
              "       [0.75030391],\n",
              "       [0.77476879],\n",
              "       [0.7818429 ]])"
            ]
          },
          "metadata": {
            "tags": []
          },
          "execution_count": 121
        }
      ]
    },
    {
      "cell_type": "code",
      "metadata": {
        "id": "RoGdHIrQFGNt",
        "colab_type": "code",
        "outputId": "dd0ad120-ea76-442a-dda5-1109c933e95c",
        "colab": {
          "base_uri": "https://localhost:8080/",
          "height": 672
        }
      },
      "source": [
        "#Create the training data set\n",
        "#Create the scaled training data set\n",
        "train_data = scaled_data[0:training_data_len , :]\n",
        "#Split the data into x_train and y_train data sets\n",
        "x_train = []\n",
        "y_train = []\n",
        "\n",
        "for i in range(60, len(train_data)):\n",
        "  x_train.append(train_data[i-60:i, 0])\n",
        "  y_train.append(train_data[i, 0])\n",
        "  if i<= 61:\n",
        "    print(x_train)\n",
        "    print(y_train)\n",
        "    print()"
      ],
      "execution_count": 122,
      "outputs": [
        {
          "output_type": "stream",
          "text": [
            "[array([0.01089548, 0.01205872, 0.01447467, 0.01677483, 0.01642217,\n",
            "       0.01721696, 0.01685378, 0.01624321, 0.01541158, 0.01798544,\n",
            "       0.02030665, 0.01959081, 0.01566949, 0.01941185, 0.01572739,\n",
            "       0.02954412, 0.02847562, 0.02987047, 0.03288645, 0.03471289,\n",
            "       0.03456025, 0.03399706, 0.03639722, 0.03865526, 0.04121335,\n",
            "       0.04534521, 0.05402475, 0.05415633, 0.05898825, 0.06259901,\n",
            "       0.05639331, 0.05878296, 0.0587356 , 0.06543606, 0.06448335,\n",
            "       0.06624662, 0.06941526, 0.07117856, 0.07625785, 0.07995811,\n",
            "       0.08102658, 0.0814003 , 0.07507357, 0.07354712, 0.07377347,\n",
            "       0.07972122, 0.08139505, 0.08499001, 0.09346428, 0.10477032,\n",
            "       0.10265438, 0.10265964, 0.11083389, 0.11339195, 0.11157078,\n",
            "       0.10990752, 0.10817582, 0.11392883, 0.11787649, 0.11952923])]\n",
            "[0.11544472908538655]\n",
            "\n",
            "[array([0.01089548, 0.01205872, 0.01447467, 0.01677483, 0.01642217,\n",
            "       0.01721696, 0.01685378, 0.01624321, 0.01541158, 0.01798544,\n",
            "       0.02030665, 0.01959081, 0.01566949, 0.01941185, 0.01572739,\n",
            "       0.02954412, 0.02847562, 0.02987047, 0.03288645, 0.03471289,\n",
            "       0.03456025, 0.03399706, 0.03639722, 0.03865526, 0.04121335,\n",
            "       0.04534521, 0.05402475, 0.05415633, 0.05898825, 0.06259901,\n",
            "       0.05639331, 0.05878296, 0.0587356 , 0.06543606, 0.06448335,\n",
            "       0.06624662, 0.06941526, 0.07117856, 0.07625785, 0.07995811,\n",
            "       0.08102658, 0.0814003 , 0.07507357, 0.07354712, 0.07377347,\n",
            "       0.07972122, 0.08139505, 0.08499001, 0.09346428, 0.10477032,\n",
            "       0.10265438, 0.10265964, 0.11083389, 0.11339195, 0.11157078,\n",
            "       0.10990752, 0.10817582, 0.11392883, 0.11787649, 0.11952923]), array([0.01205872, 0.01447467, 0.01677483, 0.01642217, 0.01721696,\n",
            "       0.01685378, 0.01624321, 0.01541158, 0.01798544, 0.02030665,\n",
            "       0.01959081, 0.01566949, 0.01941185, 0.01572739, 0.02954412,\n",
            "       0.02847562, 0.02987047, 0.03288645, 0.03471289, 0.03456025,\n",
            "       0.03399706, 0.03639722, 0.03865526, 0.04121335, 0.04534521,\n",
            "       0.05402475, 0.05415633, 0.05898825, 0.06259901, 0.05639331,\n",
            "       0.05878296, 0.0587356 , 0.06543606, 0.06448335, 0.06624662,\n",
            "       0.06941526, 0.07117856, 0.07625785, 0.07995811, 0.08102658,\n",
            "       0.0814003 , 0.07507357, 0.07354712, 0.07377347, 0.07972122,\n",
            "       0.08139505, 0.08499001, 0.09346428, 0.10477032, 0.10265438,\n",
            "       0.10265964, 0.11083389, 0.11339195, 0.11157078, 0.10990752,\n",
            "       0.10817582, 0.11392883, 0.11787649, 0.11952923, 0.11544473])]\n",
            "[0.11544472908538655, 0.11001805153856642]\n",
            "\n"
          ],
          "name": "stdout"
        }
      ]
    },
    {
      "cell_type": "code",
      "metadata": {
        "id": "XYqn4B7cFKlW",
        "colab_type": "code",
        "colab": {}
      },
      "source": [
        "#Convert the x_train and y_train to numpy arrays \n",
        "x_train, y_train = np.array(x_train), np.array(y_train)"
      ],
      "execution_count": 0,
      "outputs": []
    },
    {
      "cell_type": "code",
      "metadata": {
        "id": "uBUi5Og2FPLM",
        "colab_type": "code",
        "outputId": "1ae3dea5-f5eb-42c2-ea04-16ba7abe74ea",
        "colab": {
          "base_uri": "https://localhost:8080/",
          "height": 34
        }
      },
      "source": [
        "#Reshape the data\n",
        "x_train = np.reshape(x_train, (x_train.shape[0], x_train.shape[1], 1))\n",
        "x_train.shape"
      ],
      "execution_count": 124,
      "outputs": [
        {
          "output_type": "execute_result",
          "data": {
            "text/plain": [
              "(1605, 60, 1)"
            ]
          },
          "metadata": {
            "tags": []
          },
          "execution_count": 124
        }
      ]
    },
    {
      "cell_type": "code",
      "metadata": {
        "id": "1wwjrtK_FSPI",
        "colab_type": "code",
        "colab": {}
      },
      "source": [
        "#Build the LSTM model\n",
        "model = Sequential()\n",
        "model.add(LSTM(50, return_sequences=True, input_shape= (x_train.shape[1], 1)))\n",
        "model.add(LSTM(50, return_sequences= False))\n",
        "model.add(Dense(25))\n",
        "model.add(Dense(1))"
      ],
      "execution_count": 0,
      "outputs": []
    },
    {
      "cell_type": "code",
      "metadata": {
        "id": "42IYoxDXF1Lu",
        "colab_type": "code",
        "colab": {}
      },
      "source": [
        "#Compile the model\n",
        "model.compile(optimizer='adam', loss='mean_squared_error')"
      ],
      "execution_count": 0,
      "outputs": []
    },
    {
      "cell_type": "code",
      "metadata": {
        "id": "8duNiJf4F4qi",
        "colab_type": "code",
        "outputId": "4d26efc7-d8d4-4e37-80a5-2b6d9769e2d5",
        "colab": {
          "base_uri": "https://localhost:8080/",
          "height": 50
        }
      },
      "source": [
        "#Train the model\n",
        "model.fit(x_train, y_train, batch_size=1, epochs=1)"
      ],
      "execution_count": 216,
      "outputs": [
        {
          "output_type": "stream",
          "text": [
            "1605/1605 [==============================] - 44s 27ms/step - loss: 1.0119e-04\n"
          ],
          "name": "stdout"
        },
        {
          "output_type": "execute_result",
          "data": {
            "text/plain": [
              "<tensorflow.python.keras.callbacks.History at 0x7f1b71a90ba8>"
            ]
          },
          "metadata": {
            "tags": []
          },
          "execution_count": 216
        }
      ]
    },
    {
      "cell_type": "code",
      "metadata": {
        "id": "Mfk5hq5QGMXB",
        "colab_type": "code",
        "colab": {}
      },
      "source": [
        "#Create the testing data set\n",
        "#Create a new array containing scaled values from index 1543 to 2002 \n",
        "test_data = scaled_data[training_data_len - 60: , :]\n",
        "#Create the data sets x_test and y_test\n",
        "x_test = []\n",
        "y_test = dataset[training_data_len:, :]\n",
        "for i in range(60, len(test_data)):\n",
        "  x_test.append(test_data[i-60:i, 0])"
      ],
      "execution_count": 0,
      "outputs": []
    },
    {
      "cell_type": "code",
      "metadata": {
        "id": "MtLBG_c0GTL_",
        "colab_type": "code",
        "colab": {}
      },
      "source": [
        "#Convert the data to a numpy array\n",
        "x_test = np.array(x_test)"
      ],
      "execution_count": 0,
      "outputs": []
    },
    {
      "cell_type": "code",
      "metadata": {
        "id": "ATHdCMHYGWZ5",
        "colab_type": "code",
        "colab": {}
      },
      "source": [
        "#Reshape the data\n",
        "x_test = np.reshape(x_test, (x_test.shape[0], x_test.shape[1], 1 ))"
      ],
      "execution_count": 0,
      "outputs": []
    },
    {
      "cell_type": "code",
      "metadata": {
        "id": "GIHwOGYUGZYZ",
        "colab_type": "code",
        "colab": {}
      },
      "source": [
        "#Get the models predicted price values \n",
        "predictions = model.predict(x_test)\n",
        "predictions = scaler.inverse_transform(predictions)"
      ],
      "execution_count": 0,
      "outputs": []
    },
    {
      "cell_type": "code",
      "metadata": {
        "id": "pPhg89yIGb-4",
        "colab_type": "code",
        "outputId": "746122b8-225b-4a7f-df15-514ea705d37c",
        "colab": {
          "base_uri": "https://localhost:8080/",
          "height": 34
        }
      },
      "source": [
        "#Get the root mean squared error (RMSE)\n",
        "rmse=np.sqrt(np.mean(((predictions- y_test)**2)))\n",
        "rmse"
      ],
      "execution_count": 221,
      "outputs": [
        {
          "output_type": "execute_result",
          "data": {
            "text/plain": [
              "6.574445961520803"
            ]
          },
          "metadata": {
            "tags": []
          },
          "execution_count": 221
        }
      ]
    },
    {
      "cell_type": "code",
      "metadata": {
        "id": "KjP60LjMG2Z3",
        "colab_type": "code",
        "outputId": "cb0d9312-9b64-402b-b83e-917e817b10f8",
        "colab": {
          "base_uri": "https://localhost:8080/",
          "height": 659
        }
      },
      "source": [
        "#Plot the data\n",
        "train = data[:training_data_len]\n",
        "valid = data[training_data_len:]\n",
        "valid['Predictions'] = predictions\n",
        "#Visualize the data\n",
        "plt.figure(figsize=(16,8))\n",
        "plt.title('Model')\n",
        "plt.xlabel('Date', fontsize=18)\n",
        "plt.ylabel('Close Price USD ($)', fontsize=18)\n",
        "plt.plot(train['Close'])\n",
        "plt.plot(valid[['Close', 'Predictions']])\n",
        "plt.legend(['Train', 'Val', 'Predictions'], loc='lower right')\n",
        "plt.show()"
      ],
      "execution_count": 222,
      "outputs": [
        {
          "output_type": "stream",
          "text": [
            "/usr/local/lib/python3.6/dist-packages/ipykernel_launcher.py:3: SettingWithCopyWarning: \n",
            "A value is trying to be set on a copy of a slice from a DataFrame.\n",
            "Try using .loc[row_indexer,col_indexer] = value instead\n",
            "\n",
            "See the caveats in the documentation: https://pandas.pydata.org/pandas-docs/stable/user_guide/indexing.html#returning-a-view-versus-a-copy\n",
            "  This is separate from the ipykernel package so we can avoid doing imports until\n"
          ],
          "name": "stderr"
        },
        {
          "output_type": "display_data",
          "data": {
            "image/png": "[encoded data removed]",
            "text/plain": [
              "<Figure size 1152x576 with 1 Axes>"
            ]
          },
          "metadata": {
            "tags": []
          }
        }
      ]
    },
    {
      "cell_type": "code",
      "metadata": {
        "id": "EJOOWUVRIFjl",
        "colab_type": "code",
        "outputId": "833375ea-235f-4e6e-ac0d-c72367824c94",
        "colab": {
          "base_uri": "https://localhost:8080/",
          "height": 431
        }
      },
      "source": [
        "#Show the valid and predicted prices\n",
        "valid"
      ],
      "execution_count": 224,
      "outputs": [
        {
          "output_type": "execute_result",
          "data": {
            "text/html": [
              "<div>\n",
              "<style scoped>\n",
              "    .dataframe tbody tr th:only-of-type {\n",
              "        vertical-align: middle;\n",
              "    }\n",
              "\n",
              "    .dataframe tbody tr th {\n",
              "        vertical-align: top;\n",
              "    }\n",
              "\n",
              "    .dataframe thead th {\n",
              "        text-align: right;\n",
              "    }\n",
              "</style>\n",
              "<table border=\"1\" class=\"dataframe\">\n",
              "  <thead>\n",
              "    <tr style=\"text-align: right;\">\n",
              "      <th></th>\n",
              "      <th>Close</th>\n",
              "      <th>Predictions</th>\n",
              "    </tr>\n",
              "    <tr>\n",
              "      <th>Date</th>\n",
              "      <th></th>\n",
              "      <th></th>\n",
              "    </tr>\n",
              "  </thead>\n",
              "  <tbody>\n",
              "    <tr>\n",
              "      <th>2018-08-15</th>\n",
              "      <td>210.240005</td>\n",
              "      <td>208.467316</td>\n",
              "    </tr>\n",
              "    <tr>\n",
              "      <th>2018-08-16</th>\n",
              "      <td>213.320007</td>\n",
              "      <td>208.951859</td>\n",
              "    </tr>\n",
              "    <tr>\n",
              "      <th>2018-08-17</th>\n",
              "      <td>217.580002</td>\n",
              "      <td>212.732498</td>\n",
              "    </tr>\n",
              "    <tr>\n",
              "      <th>2018-08-20</th>\n",
              "      <td>215.460007</td>\n",
              "      <td>217.298981</td>\n",
              "    </tr>\n",
              "    <tr>\n",
              "      <th>2018-08-21</th>\n",
              "      <td>215.039993</td>\n",
              "      <td>213.539474</td>\n",
              "    </tr>\n",
              "    <tr>\n",
              "      <th>...</th>\n",
              "      <td>...</td>\n",
              "      <td>...</td>\n",
              "    </tr>\n",
              "    <tr>\n",
              "      <th>2020-04-03</th>\n",
              "      <td>241.410004</td>\n",
              "      <td>245.325623</td>\n",
              "    </tr>\n",
              "    <tr>\n",
              "      <th>2020-04-06</th>\n",
              "      <td>262.470001</td>\n",
              "      <td>238.536270</td>\n",
              "    </tr>\n",
              "    <tr>\n",
              "      <th>2020-04-07</th>\n",
              "      <td>259.429993</td>\n",
              "      <td>268.103546</td>\n",
              "    </tr>\n",
              "    <tr>\n",
              "      <th>2020-04-08</th>\n",
              "      <td>266.070007</td>\n",
              "      <td>256.263214</td>\n",
              "    </tr>\n",
              "    <tr>\n",
              "      <th>2020-04-09</th>\n",
              "      <td>267.989990</td>\n",
              "      <td>267.568939</td>\n",
              "    </tr>\n",
              "  </tbody>\n",
              "</table>\n",
              "<p>416 rows × 2 columns</p>\n",
              "</div>"
            ],
            "text/plain": [
              "                 Close  Predictions\n",
              "Date                               \n",
              "2018-08-15  210.240005   208.467316\n",
              "2018-08-16  213.320007   208.951859\n",
              "2018-08-17  217.580002   212.732498\n",
              "2018-08-20  215.460007   217.298981\n",
              "2018-08-21  215.039993   213.539474\n",
              "...                ...          ...\n",
              "2020-04-03  241.410004   245.325623\n",
              "2020-04-06  262.470001   238.536270\n",
              "2020-04-07  259.429993   268.103546\n",
              "2020-04-08  266.070007   256.263214\n",
              "2020-04-09  267.989990   267.568939\n",
              "\n",
              "[416 rows x 2 columns]"
            ]
          },
          "metadata": {
            "tags": []
          },
          "execution_count": 224
        }
      ]
    },
    {
      "cell_type": "code",
      "metadata": {
        "id": "TM-DCkS2IKxY",
        "colab_type": "code",
        "outputId": "f08e17d8-a768-4622-951e-1bed05b79db9",
        "colab": {
          "base_uri": "https://localhost:8080/",
          "height": 34
        }
      },
      "source": [
        "#Get the quote\n",
        "apple_quote = web.DataReader('AAPL', data_source='yahoo', start='2012-01-01', end='2020-04-09')\n",
        "#Create a new dataframe\n",
        "new_df = apple_quote.filter(['Close'])\n",
        "#Get teh last 60 day closing price values and convert the dataframe to an array\n",
        "last_60_days = new_df[-60:].values\n",
        "#Scale the data to be values between 0 and 1\n",
        "last_60_days_scaled = scaler.transform(last_60_days)\n",
        "#Create an empty list\n",
        "X_test = []\n",
        "#Append teh past 60 days\n",
        "X_test.append(last_60_days_scaled)\n",
        "#Convert the X_test data set to a numpy array\n",
        "X_test = np.array(X_test)\n",
        "#Reshape the data\n",
        "X_test = np.reshape(X_test, (X_test.shape[0], X_test.shape[1], 1))\n",
        "#Get the predicted scaled price\n",
        "pred_price = model.predict(X_test)\n",
        "#undo the scaling \n",
        "pred_price = scaler.inverse_transform(pred_price)\n",
        "print(pred_price)"
      ],
      "execution_count": 225,
      "outputs": [
        {
          "output_type": "stream",
          "text": [
            "[[266.79202]]\n"
          ],
          "name": "stdout"
        }
      ]
    },
    {
      "cell_type": "code",
      "metadata": {
        "id": "2Mfb1PeVIO6q",
        "colab_type": "code",
        "outputId": "08ed3335-c160-4203-c13e-35e472986b12",
        "colab": {
          "base_uri": "https://localhost:8080/",
          "height": 67
        }
      },
      "source": [
        "#Get the quote\n",
        "apple_quote2 = web.DataReader('AAPL', data_source='yahoo', start='2020-04-09', end='2020-04-09')\n",
        "print(apple_quote2['Close'])"
      ],
      "execution_count": 226,
      "outputs": [
        {
          "output_type": "stream",
          "text": [
            "Date\n",
            "2020-04-09    267.98999\n",
            "Name: Close, dtype: float64\n"
          ],
          "name": "stdout"
        }
      ]
    },
    {
      "cell_type": "code",
      "metadata": {
        "id": "SkY93EVO2twG",
        "colab_type": "code",
        "outputId": "f1f9fd7e-eb80-46a0-d12c-e647cc4af40f",
        "colab": {
          "base_uri": "https://localhost:8080/",
          "height": 860
        }
      },
      "source": [
        "pip install newspaper3k"
      ],
      "execution_count": 231,
      "outputs": [
        {
          "output_type": "stream",
          "text": [
            "Collecting newspaper3k\n",
            "\u001b[?25l  Downloading https://files.pythonhosted.org/packages/d7/b9/51afecb35bb61b188a4b44868001de348a0e8134b4dfa00ffc191567c4b9/newspaper3k-0.2.8-py3-none-any.whl (211kB)\n",
            "\r\u001b[K     |█▌                              | 10kB 2.0MB/s eta 0:00:01\r\u001b[K     |███                             | 20kB 1.2MB/s eta 0:00:01\r\u001b[K     |████▋                           | 30kB 1.7MB/s eta 0:00:01\r\u001b[K     |██████▏                         | 40kB 1.4MB/s eta 0:00:01\r\u001b[K     |███████▊                        | 51kB 1.7MB/s eta 0:00:01\r\u001b[K     |█████████▎                      | 61kB 2.0MB/s eta 0:00:01\r\u001b[K     |██████████▉                     | 71kB 2.4MB/s eta 0:00:01\r\u001b[K     |████████████▍                   | 81kB 2.7MB/s eta 0:00:01\r\u001b[K     |██████████████                  | 92kB 2.2MB/s eta 0:00:01\r\u001b[K     |███████████████▌                | 102kB 2.4MB/s eta 0:00:01\r\u001b[K     |█████████████████               | 112kB 2.4MB/s eta 0:00:01\r\u001b[K     |██████████████████▋             | 122kB 2.4MB/s eta 0:00:01\r\u001b[K     |████████████████████▏           | 133kB 2.4MB/s eta 0:00:01\r\u001b[K     |█████████████████████▊          | 143kB 2.4MB/s eta 0:00:01\r\u001b[K     |███████████████████████▎        | 153kB 2.4MB/s eta 0:00:01\r\u001b[K     |████████████████████████▉       | 163kB 2.4MB/s eta 0:00:01\r\u001b[K     |██████████████████████████▍     | 174kB 2.4MB/s eta 0:00:01\r\u001b[K     |████████████████████████████    | 184kB 2.4MB/s eta 0:00:01\r\u001b[K     |█████████████████████████████▌  | 194kB 2.4MB/s eta 0:00:01\r\u001b[K     |███████████████████████████████ | 204kB 2.4MB/s eta 0:00:01\r\u001b[K     |████████████████████████████████| 215kB 2.4MB/s \n",
            "\u001b[?25hRequirement already satisfied: nltk>=3.2.1 in /usr/local/lib/python3.6/dist-packages (from newspaper3k) (3.2.5)\n",
            "Collecting cssselect>=0.9.2\n",
            "  Downloading https://files.pythonhosted.org/packages/3b/d4/3b5c17f00cce85b9a1e6f91096e1cc8e8ede2e1be8e96b87ce1ed09e92c5/cssselect-1.1.0-py2.py3-none-any.whl\n",
            "Requirement already satisfied: Pillow>=3.3.0 in /usr/local/lib/python3.6/dist-packages (from newspaper3k) (7.0.0)\n",
            "Requirement already satisfied: PyYAML>=3.11 in /usr/local/lib/python3.6/dist-packages (from newspaper3k) (3.13)\n",
            "Collecting feedfinder2>=0.0.4\n",
            "  Downloading https://files.pythonhosted.org/packages/35/82/1251fefec3bb4b03fd966c7e7f7a41c9fc2bb00d823a34c13f847fd61406/feedfinder2-0.0.4.tar.gz\n",
            "Collecting tinysegmenter==0.3\n",
            "  Downloading https://files.pythonhosted.org/packages/17/82/86982e4b6d16e4febc79c2a1d68ee3b707e8a020c5d2bc4af8052d0f136a/tinysegmenter-0.3.tar.gz\n",
            "Requirement already satisfied: lxml>=3.6.0 in /usr/local/lib/python3.6/dist-packages (from newspaper3k) (4.2.6)\n",
            "Requirement already satisfied: python-dateutil>=2.5.3 in /usr/local/lib/python3.6/dist-packages (from newspaper3k) (2.8.1)\n",
            "Requirement already satisfied: requests>=2.10.0 in /usr/local/lib/python3.6/dist-packages (from newspaper3k) (2.21.0)\n",
            "Requirement already satisfied: beautifulsoup4>=4.4.1 in /usr/local/lib/python3.6/dist-packages (from newspaper3k) (4.6.3)\n",
            "Collecting tldextract>=2.0.1\n",
            "\u001b[?25l  Downloading https://files.pythonhosted.org/packages/fd/0e/9ab599d6e78f0340bb1d1e28ddeacb38c8bb7f91a1b0eae9a24e9603782f/tldextract-2.2.2-py2.py3-none-any.whl (48kB)\n",
            "\u001b[K     |████████████████████████████████| 51kB 6.2MB/s \n",
            "\u001b[?25hCollecting feedparser>=5.2.1\n",
            "\u001b[?25l  Downloading https://files.pythonhosted.org/packages/91/d8/7d37fec71ff7c9dbcdd80d2b48bcdd86d6af502156fc93846fb0102cb2c4/feedparser-5.2.1.tar.bz2 (192kB)\n",
            "\u001b[K     |████████████████████████████████| 194kB 41.1MB/s \n",
            "\u001b[?25hCollecting jieba3k>=0.35.1\n",
            "\u001b[?25l  Downloading https://files.pythonhosted.org/packages/a9/cb/2c8332bcdc14d33b0bedd18ae0a4981a069c3513e445120da3c3f23a8aaa/jieba3k-0.35.1.zip (7.4MB)\n",
            "\u001b[K     |████████████████████████████████| 7.4MB 16.4MB/s \n",
            "\u001b[?25hRequirement already satisfied: six in /usr/local/lib/python3.6/dist-packages (from nltk>=3.2.1->newspaper3k) (1.12.0)\n",
            "Requirement already satisfied: certifi>=2017.4.17 in /usr/local/lib/python3.6/dist-packages (from requests>=2.10.0->newspaper3k) (2019.11.28)\n",
            "Requirement already satisfied: chardet<3.1.0,>=3.0.2 in /usr/local/lib/python3.6/dist-packages (from requests>=2.10.0->newspaper3k) (3.0.4)\n",
            "Requirement already satisfied: idna<2.9,>=2.5 in /usr/local/lib/python3.6/dist-packages (from requests>=2.10.0->newspaper3k) (2.8)\n",
            "Requirement already satisfied: urllib3<1.25,>=1.21.1 in /usr/local/lib/python3.6/dist-packages (from requests>=2.10.0->newspaper3k) (1.24.3)\n",
            "Collecting requests-file>=1.4\n",
            "  Downloading https://files.pythonhosted.org/packages/23/9c/6e63c23c39e53d3df41c77a3d05a49a42c4e1383a6d2a5e3233161b89dbf/requests_file-1.4.3-py2.py3-none-any.whl\n",
            "Requirement already satisfied: setuptools in /usr/local/lib/python3.6/dist-packages (from tldextract>=2.0.1->newspaper3k) (46.1.3)\n",
            "Building wheels for collected packages: feedfinder2, tinysegmenter, feedparser, jieba3k\n",
            "  Building wheel for feedfinder2 (setup.py) ... \u001b[?25l\u001b[?25hdone\n",
            "  Created wheel for feedfinder2: filename=feedfinder2-0.0.4-cp36-none-any.whl size=3357 sha256=ff98031eff35f89d80bc4901bf2c9acdf1408e713b9c23ac2ecbe58cec8d85a3\n",
            "  Stored in directory: /root/.cache/pip/wheels/de/03/ca/778e3a7a627e3d98836cc890e7cb40c7575424cfd3340f40ed\n",
            "  Building wheel for tinysegmenter (setup.py) ... \u001b[?25l\u001b[?25hdone\n",
            "  Created wheel for tinysegmenter: filename=tinysegmenter-0.3-cp36-none-any.whl size=13539 sha256=1e22611496abf417aee9248471c4506005f054485b5df9afde1109b93d5e65f7\n",
            "  Stored in directory: /root/.cache/pip/wheels/81/2b/43/a02ede72324dd40cdd7ca53aad718c7710628e91b8b0dc0f02\n",
            "  Building wheel for feedparser (setup.py) ... \u001b[?25l\u001b[?25hdone\n",
            "  Created wheel for feedparser: filename=feedparser-5.2.1-cp36-none-any.whl size=44940 sha256=6b9e059331dd28fe866ff10634ee2a4bfa90f214ffdc17586303785c69a3a9ea\n",
            "  Stored in directory: /root/.cache/pip/wheels/8c/69/b7/f52763c41c5471df57703a0ef718a32a5e81ee35dcf6d4f97f\n",
            "  Building wheel for jieba3k (setup.py) ... \u001b[?25l\u001b[?25hdone\n",
            "  Created wheel for jieba3k: filename=jieba3k-0.35.1-cp36-none-any.whl size=7398406 sha256=26b9fa41cfa5c77c97452ce2446aa6980b6dfb8670dbc12906c8b734a359cd86\n",
            "  Stored in directory: /root/.cache/pip/wheels/83/15/9c/a3f1f67e7f7181170ad37d32e503c35da20627c013f438ed34\n",
            "Successfully built feedfinder2 tinysegmenter feedparser jieba3k\n",
            "Installing collected packages: cssselect, feedfinder2, tinysegmenter, requests-file, tldextract, feedparser, jieba3k, newspaper3k\n",
            "Successfully installed cssselect-1.1.0 feedfinder2-0.0.4 feedparser-5.2.1 jieba3k-0.35.1 newspaper3k-0.2.8 requests-file-1.4.3 tinysegmenter-0.3 tldextract-2.2.2\n"
          ],
          "name": "stdout"
        }
      ]
    },
    {
      "cell_type": "code",
      "metadata": {
        "id": "JK0FXS6U24FO",
        "colab_type": "code",
        "colab": {}
      },
      "source": [
        "#importing libraries\n",
        "from textblob import TextBlob\n",
        "import nltk\n",
        "from newspaper import Article"
      ],
      "execution_count": 0,
      "outputs": []
    },
    {
      "cell_type": "code",
      "metadata": {
        "id": "qtaRaZ_T2_r2",
        "colab_type": "code",
        "colab": {}
      },
      "source": [
        "url='https://www.barrons.com/articles/apple-stock-appletv-iphone-11-analyst-expects-more-gains-51570634831'\n",
        "article=Article(url)"
      ],
      "execution_count": 0,
      "outputs": []
    },
    {
      "cell_type": "code",
      "metadata": {
        "id": "kiPSDqYe3Lxi",
        "colab_type": "code",
        "outputId": "dc2dc440-13ad-4863-e3be-90a2b337748d",
        "colab": {
          "base_uri": "https://localhost:8080/",
          "height": 50
        }
      },
      "source": [
        "#Natural language processing\n",
        "article.download()\n",
        "article.parse()\n",
        "nltk.download('punkt')\n",
        "article.nlp()"
      ],
      "execution_count": 234,
      "outputs": [
        {
          "output_type": "stream",
          "text": [
            "[nltk_data] Downloading package punkt to /root/nltk_data...\n",
            "[nltk_data]   Unzipping tokenizers/punkt.zip.\n"
          ],
          "name": "stdout"
        }
      ]
    },
    {
      "cell_type": "code",
      "metadata": {
        "id": "tzr8OYoN3NiB",
        "colab_type": "code",
        "outputId": "fe46902b-f4e0-4d5d-fffb-1295183c4d8e",
        "colab": {
          "base_uri": "https://localhost:8080/",
          "height": 121
        }
      },
      "source": [
        "#Get the summary of the article\n",
        "text=article.summary\n",
        "print(text)"
      ],
      "execution_count": 235,
      "outputs": [
        {
          "output_type": "stream",
          "text": [
            "Text sizeApple stock has had a great year, and Canaccord sees more potential gains, thanks to the success of the iPhone 11 and growth in the services business.\n",
            "The launch of Apple TV+ in November could give the stock an extra push.\n",
            "Apple stock (ticker: AAPL) has rallied more than 43% in 2019, more than double the gains seen by the S&P 500, and ahead of the 29% rise of the Technology Select Sector SDPR ETF (XLK).\n",
            "It is the best-performing FAANG stock this year, beating Facebook (FB), Amazon.com (AMZN), Netflix (NFLX), and Alphabet (GOOGL), Google’s parent.\n",
            "The launch of Apple TV+ next month could give the services business another push, he said.\n"
          ],
          "name": "stdout"
        }
      ]
    },
    {
      "cell_type": "code",
      "metadata": {
        "id": "NQ0D3-t83Tic",
        "colab_type": "code",
        "outputId": "c9977e6b-e706-4224-daeb-dc2498e980c7",
        "colab": {
          "base_uri": "https://localhost:8080/",
          "height": 34
        }
      },
      "source": [
        "#create a text blob object\n",
        "obj=TextBlob(text)\n",
        "sentiment=obj.sentiment.polarity\n",
        "print(sentiment)"
      ],
      "execution_count": 236,
      "outputs": [
        {
          "output_type": "stream",
          "text": [
            "0.27999999999999997\n"
          ],
          "name": "stdout"
        }
      ]
    },
    {
      "cell_type": "code",
      "metadata": {
        "id": "qiMlHMXN3Ypm",
        "colab_type": "code",
        "outputId": "62604d60-31b5-4c00-8da3-679d69fb787f",
        "colab": {
          "base_uri": "https://localhost:8080/",
          "height": 34
        }
      },
      "source": [
        "if sentiment==0:\n",
        "  print('Investing can be done')\n",
        "elif sentiment>0:\n",
        "  print('Investing will give profit in future')\n",
        "else:\n",
        "  print('Chances of profit are low in percent')"
      ],
      "execution_count": 237,
      "outputs": [
        {
          "output_type": "stream",
          "text": [
            "Investing will give profit in future\n"
          ],
          "name": "stdout"
        }
      ]
    }
  ]
}