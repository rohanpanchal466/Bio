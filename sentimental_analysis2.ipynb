{
  "nbformat": 4,
  "nbformat_minor": 0,
  "metadata": {
    "colab": {
      "name": "sentimental-analysis2.ipynb",
      "provenance": [],
      "collapsed_sections": [],
      "authorship_tag": "ABX9TyMUNVjQQrHIi035AD8My5dv",
      "include_colab_link": true
    },
    "kernelspec": {
      "name": "python3",
      "display_name": "Python 3"
    }
  },
  "cells": [
    {
      "cell_type": "markdown",
      "metadata": {
        "id": "view-in-github",
        "colab_type": "text"
      },
      "source": [
        "<a href=\"https://colab.research.google.com/github/rohanpanchal466/Bio/blob/master/sentimental_analysis2.ipynb\" target=\"_parent\"><img src=\"https://colab.research.google.com/assets/colab-badge.svg\" alt=\"Open In Colab\"/></a>"
      ]
    },
    {
      "cell_type": "code",
      "metadata": {
        "id": "WxpIklDyv0sm",
        "colab_type": "code",
        "colab": {}
      },
      "source": [
        "#pip install newspaper3k"
      ],
      "execution_count": 0,
      "outputs": []
    },
    {
      "cell_type": "code",
      "metadata": {
        "id": "GejSloW_wEti",
        "colab_type": "code",
        "colab": {}
      },
      "source": [
        "from textblob import TextBlob\n",
        "import nltk\n",
        "from newspaper import article"
      ],
      "execution_count": 0,
      "outputs": []
    },
    {
      "cell_type": "code",
      "metadata": {
        "id": "w2zMfWM3wTKI",
        "colab_type": "code",
        "colab": {}
      },
      "source": [
        "url='https://www.barrons.com/articles/apple-stock-appletv-iphone-11-analyst-expects-more-gains-51570634831'\n",
        "article=Article(url)"
      ],
      "execution_count": 0,
      "outputs": []
    },
    {
      "cell_type": "code",
      "metadata": {
        "id": "PAYqgwNWw2PI",
        "colab_type": "code",
        "colab": {
          "base_uri": "https://localhost:8080/",
          "height": 50
        },
        "outputId": "7e49450d-a4c7-4db5-9bbc-4105875a3f86"
      },
      "source": [
        "#Natural language processing\n",
        "article.download()\n",
        "article.parse()\n",
        "nltk.download('punkt')\n",
        "article.nlp()"
      ],
      "execution_count": 28,
      "outputs": [
        {
          "output_type": "stream",
          "text": [
            "[nltk_data] Downloading package punkt to /root/nltk_data...\n",
            "[nltk_data]   Package punkt is already up-to-date!\n"
          ],
          "name": "stdout"
        }
      ]
    },
    {
      "cell_type": "code",
      "metadata": {
        "id": "S2XlF2NVxfjo",
        "colab_type": "code",
        "colab": {
          "base_uri": "https://localhost:8080/",
          "height": 101
        },
        "outputId": "1e90e7b9-29d5-4e8c-d9f6-b18768077d9f"
      },
      "source": [
        "#Get the summary of the article\n",
        "text=article.summary\n",
        "print(text)"
      ],
      "execution_count": 29,
      "outputs": [
        {
          "output_type": "stream",
          "text": [
            "Text sizeApple stock has had a great year, and Canaccord sees more potential gains, thanks to the success of the iPhone 11 and growth in the services business.\n",
            "The launch of Apple TV+ in November could give the stock an extra push.\n",
            "Apple stock (ticker: AAPL) has rallied more than 43% in 2019, more than double the gains seen by the S&P 500, and ahead of the 29% rise of the Technology Select Sector SDPR ETF (XLK).\n",
            "It is the best-performing FAANG stock this year, beating Facebook (FB), Amazon.com (AMZN), Netflix (NFLX), and Alphabet (GOOGL), Google’s parent.\n",
            "The launch of Apple TV+ next month could give the services business another push, he said.\n"
          ],
          "name": "stdout"
        }
      ]
    },
    {
      "cell_type": "code",
      "metadata": {
        "id": "oPIvByILx4nc",
        "colab_type": "code",
        "colab": {
          "base_uri": "https://localhost:8080/",
          "height": 34
        },
        "outputId": "92dc78b6-39cb-40e9-d77f-97cbabb34e52"
      },
      "source": [
        "#create a text blob object\n",
        "obj=TextBlob(text)\n",
        "sentiment=obj.sentiment.polarity\n",
        "print(sentiment)"
      ],
      "execution_count": 30,
      "outputs": [
        {
          "output_type": "stream",
          "text": [
            "0.27999999999999997\n"
          ],
          "name": "stdout"
        }
      ]
    },
    {
      "cell_type": "code",
      "metadata": {
        "id": "wnMOKd6r1XG0",
        "colab_type": "code",
        "colab": {
          "base_uri": "https://localhost:8080/",
          "height": 34
        },
        "outputId": "43be7c13-8f53-4f7c-dc93-6febdf7930a5"
      },
      "source": [
        "if sentiment==0:\n",
        "  print('Investing can be done')\n",
        "elif sentiment>0:\n",
        "  print('Investing will give profit in future')\n",
        "else:\n",
        "  print('Chances of profit are low in percent')"
      ],
      "execution_count": 31,
      "outputs": [
        {
          "output_type": "stream",
          "text": [
            "Investing will give profit in future\n"
          ],
          "name": "stdout"
        }
      ]
    }
  ]
}